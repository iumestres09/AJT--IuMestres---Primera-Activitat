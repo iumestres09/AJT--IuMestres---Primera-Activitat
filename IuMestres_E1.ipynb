{
 "cells": [
  {
   "cell_type": "markdown",
   "id": "f6ca9408",
   "metadata": {},
   "source": [
    "Exercici 1: Enters"
   ]
  },
  {
   "cell_type": "code",
   "execution_count": 4,
   "id": "9cda3d3a",
   "metadata": {},
   "outputs": [
    {
     "name": "stdout",
     "output_type": "stream",
     "text": [
      "8.35\n",
      "41.75\n",
      "2955.9\n"
     ]
    }
   ],
   "source": [
    "preu_entrada = 8.35\n",
    "nombre_entrades = 1\n",
    "cost_total = preu_entrada*nombre_entrades\n",
    "print(cost_total)\n",
    "preu_entrada = 8.35\n",
    "nombre_entrades = 5\n",
    "cost_total = preu_entrada*nombre_entrades\n",
    "print(cost_total)\n",
    "preu_entrada = 8.35\n",
    "nombre_entrades = 354\n",
    "cost_total = preu_entrada*nombre_entrades\n",
    "print(cost_total)"
   ]
  },
  {
   "cell_type": "code",
   "execution_count": 9,
   "id": "78fcb71b",
   "metadata": {},
   "outputs": [
    {
     "name": "stdout",
     "output_type": "stream",
     "text": [
      "54.108000000000004\n"
     ]
    }
   ],
   "source": [
    "preu_entrada = 8.35\n",
    "nombre_entrades = 10\n",
    "nombre_entrades_tornades= 4\n",
    "percentatge_tornat_per_entrada = 0.88\n",
    "\n",
    "diners_retornats= (preu_entrada*percentatge_tornat_per_entrada)*4\n",
    "\n",
    "\n",
    "diners_totals=preu_entrada*nombre_entrades-diners_retornats\n",
    "print(diners_totals)"
   ]
  },
  {
   "cell_type": "markdown",
   "id": "b50a0155",
   "metadata": {},
   "source": [
    "Exercici 2"
   ]
  },
  {
   "cell_type": "code",
   "execution_count": 13,
   "id": "4c485611",
   "metadata": {},
   "outputs": [
    {
     "name": "stdout",
     "output_type": "stream",
     "text": [
      "58.51985059900009\n"
     ]
    }
   ],
   "source": [
    "P= 1000\n",
    "I_inicials=10\n",
    "R= 0.01\n",
    "T= 5\n",
    "\n",
    "total_infectats= I_inicials + (P-I_inicials)*(1-(1-R)**T)\n",
    "print(total_infectats)"
   ]
  },
  {
   "cell_type": "markdown",
   "id": "6d2d5931",
   "metadata": {},
   "source": [
    "Exercici 3"
   ]
  },
  {
   "cell_type": "code",
   "execution_count": 16,
   "id": "52560e03",
   "metadata": {},
   "outputs": [
    {
     "name": "stdout",
     "output_type": "stream",
     "text": [
      "Pel radi 2, el perímetre és 12.57m, l'àrea és 12.57m2, i el volum és 33.51m3\n",
      "Pel radi 4, el perímetre és 25.13m, l'àrea és 50.27m2, i el volum és 268.08m3\n"
     ]
    }
   ],
   "source": [
    "import math\n",
    "r=2\n",
    "P= 2*math.pi*r\n",
    "A=math.pi*r**2\n",
    "V=4/3*math.pi*r**3\n",
    "\n",
    "print(f\"Pel radi {round(r,2)}, el perímetre és {round(P,2)}m, l'àrea és {round(A,2)}m2, i el volum és {round(V,2)}m3\")\n",
    "\n",
    "\n",
    "r=4\n",
    "P= 2*math.pi*r\n",
    "A=math.pi*r**2\n",
    "V=4/3*math.pi*r**3\n",
    "\n",
    "print(f\"Pel radi {round(r,2)}, el perímetre és {round(P,2)}m, l'àrea és {round(A,2)}m2, i el volum és {round(V,2)}m3\")\n"
   ]
  },
  {
   "cell_type": "markdown",
   "id": "af69c221",
   "metadata": {},
   "source": [
    "Exercici 4"
   ]
  },
  {
   "cell_type": "code",
   "execution_count": 20,
   "id": "0f933375",
   "metadata": {},
   "outputs": [
    {
     "name": "stdout",
     "output_type": "stream",
     "text": [
      "Hola, el meu nom és Iu Mestres\n",
      ", la primera lletra és Iv, l'última lletra és s\n",
      ", les tres lletres del mig són  Me\n",
      ", el meu nom en majúscules és IU MESTRES\n",
      ", el meu nom en minúscules és iu mestres\n",
      " i la llargada del meu nom és 10\n",
      " caràcters.                                                           \n"
     ]
    }
   ],
   "source": [
    "nom= \"Iu Mestres\"\n",
    "primer_lletra = nom[0]\n",
    "ultima_lletra = nom[-1]\n",
    "tres_lletres= nom[2:5]\n",
    "nom_M = nom.upper()\n",
    "nom_m = nom.lower()\n",
    "llargada_nom = len(nom)\n",
    "print(f\"Hola, el meu nom és {nom}\\n, la primera lletra és {primer_lletra}v, l'última lletra és {ultima_lletra}\\n, les tres lletres del mig són {tres_lletres}\\n, el meu nom en majúscules és {nom_M}\\n, el meu nom en minúscules és {nom_m}\\n i la llargada del meu nom és {llargada_nom}\\n caràcters.                                                           \")\n"
   ]
  },
  {
   "cell_type": "markdown",
   "id": "764ae842",
   "metadata": {},
   "source": [
    "f"
   ]
  }
 ],
 "metadata": {
  "kernelspec": {
   "display_name": "Python 3",
   "language": "python",
   "name": "python3"
  },
  "language_info": {
   "codemirror_mode": {
    "name": "ipython",
    "version": 3
   },
   "file_extension": ".py",
   "mimetype": "text/x-python",
   "name": "python",
   "nbconvert_exporter": "python",
   "pygments_lexer": "ipython3",
   "version": "3.13.7"
  }
 },
 "nbformat": 4,
 "nbformat_minor": 5
}
